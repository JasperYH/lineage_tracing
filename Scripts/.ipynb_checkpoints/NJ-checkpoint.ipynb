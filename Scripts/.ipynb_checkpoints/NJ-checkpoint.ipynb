{
 "cells": [
  {
   "cell_type": "code",
   "execution_count": 49,
   "metadata": {},
   "outputs": [
    {
     "name": "stdout",
     "output_type": "stream",
     "text": [
      "The autoreload extension is already loaded. To reload it, use:\n",
      "  %reload_ext autoreload\n"
     ]
    }
   ],
   "source": [
    "%load_ext autoreload\n",
    "%autoreload 2\n",
    "\n",
    "import NJ\n",
    "import numpy as np\n",
    "import pandas as pd\n",
    "import os\n",
    "import re\n",
    "from multiprocessing import Process, Pool\n",
    "import os\n",
    "\n",
    "def dist1(a,b):\n",
    "    if a != \"0\" and b != \"0\" and a == b:\n",
    "        return 0\n",
    "    return 1                                                                                                                         \n",
    "\n",
    "def dist2(a,b):\n",
    "    if a == \"0\" or a == \"-\" or b == \"0\" or b == \"-\":\n",
    "        return 1\n",
    "    if a == b:\n",
    "        return 0\n",
    "    return 2"
   ]
  },
  {
   "cell_type": "code",
   "execution_count": 50,
   "metadata": {},
   "outputs": [],
   "source": [
    "def calculate_dist3_matrix(dist_matrix,df):\n",
    "    deletions = pd.DataFrame(data={\"label\":[],\"start\":[],\"end\":[]})\n",
    "    p = re.compile(\"-+\")\n",
    "    \n",
    "    for i in range(n):\n",
    "        s = df[\"seq\"][i]\n",
    "        for j in p.finditer(s):\n",
    "            deletions = deletions.append({\"label\":df[\"label\"][i],\"start\":j.start(),\"end\":j.end()},ignore_index=True)\n",
    "    deletion_summary = deletions.groupby([\"start\",\"end\"]).size().reset_index()\n",
    "    deletion_summary.columns = [\"start\",\"end\",\"count\"]\n",
    "    deletion_summary = deletion_summary[deletion_summary[\"count\"]>=2].sort_values(\"count\")\n",
    "    \n",
    "    labels = df[\"label\"].tolist()\n",
    "    clusters = []\n",
    "    for i,row in deletion_summary.iterrows():\n",
    "        start = row[\"start\"]\n",
    "        end = row[\"end\"]\n",
    "        cl_labels = deletions[(deletions[\"start\"]==start) & (deletions[\"end\"]==end)]\n",
    "        cl_labels = cl_labels[\"label\"].tolist()\n",
    "        clusters.append([labels.index(j) for j in cl_labels])\n",
    "    \n",
    "    dist3_matrix = np.copy(dist_matrix)\n",
    "    for c in clusters:\n",
    "        dist3_matrix[np.ix_(c,c)] -= 10\n",
    "        \n",
    "    np.fill_diagonal(dist3_matrix,0)\n",
    "    return dist3_matrix"
   ]
  },
  {
   "cell_type": "code",
   "execution_count": 51,
   "metadata": {},
   "outputs": [],
   "source": [
    "def calculate_dist5_matrix(dist_matrix,df,z_scores_sample):\n",
    "    n = len(df)\n",
    "    m = len(df[\"seq\"][0])\n",
    "\n",
    "    clusters = []\n",
    "    for idx,row in z_scores_sample.iterrows():\n",
    "        cl = [i for i in range(100) if df[\"seq\"][i][row[\"pos\"]-1] == row[\"state\"]]\n",
    "        if len(cl) > 2:\n",
    "            clusters.append(cl)\n",
    "        dist5_matrix = np.copy(dist_matrix)\n",
    "        for c in clusters:\n",
    "            dist5_matrix[np.ix_(c,c)] -= 5\n",
    "\n",
    "        np.fill_diagonal(dist5_matrix,0)\n",
    "        return dist5_matrix"
   ]
  },
  {
   "cell_type": "code",
   "execution_count": 52,
   "metadata": {},
   "outputs": [],
   "source": [
    "from collections import Counter\n",
    "\n",
    "def build_char_table(df):\n",
    "    n = len(df)\n",
    "    m = len(df[\"seq\"][0])\n",
    "    count = Counter([])\n",
    "    for i,row in df.iterrows():\n",
    "        count += Counter(df[\"seq\"][i])\n",
    "    count = [(k,v) for k,v in count.items()]\n",
    "        \n",
    "    names = [i[0] for i in count]\n",
    "    table = 1 * np.ones(((len(count)),len(count)))\n",
    "    diag_values = np.array([i[1] for i in count]) / (m*n)\n",
    "#     table = table - np.tile(diag_values,(len(count),1)) - np.tile(diag_values,(len(count),1)).T\n",
    "    np.fill_diagonal(table,diag_values)\n",
    "    table[names.index(\"0\"),names.index(\"0\")] = 1\n",
    "    return table,names\n",
    "\n",
    "def dist4(table,names,a,b):\n",
    "    return table[names.index(a),names.index(b)]"
   ]
  },
  {
   "cell_type": "code",
   "execution_count": 53,
   "metadata": {},
   "outputs": [],
   "source": [
    "def solver(args):\n",
    "    df = args[0]\n",
    "    sample = args[1]\n",
    "    n = len(df)\n",
    "    m = len(df[\"seq\"][0])\n",
    "#     dist1_matrix = np.zeros((n,n))\n",
    "    dist2_matrix = np.zeros((n,n))\n",
    "    \n",
    "    table,names = build_char_table(df)\n",
    "#     dist4_matrix = np.zeros((n,n))\n",
    "\n",
    "    for i in range(n):\n",
    "        for j in range(i):\n",
    "#             dist1_matrix[i,j] = sum([dist1(df[\"seq\"][i][k],df[\"seq\"][j][k]) for k in range(m)])\n",
    "            dist2_matrix[i,j] = sum([dist2(df[\"seq\"][i][k],df[\"seq\"][j][k]) for k in range(m)])\n",
    "#             dist4_matrix[i,j] = sum([dist4(table,names,df[\"seq\"][i][k],df[\"seq\"][j][k]) for k in range(m)])\n",
    "\n",
    "#     dist1_matrix = dist1_matrix + dist1_matrix.T\n",
    "#     dist2_matrix = dist2_matrix + dist2_matrix.T\n",
    "    dist3_matrix = calculate_dist3_matrix(dist2_matrix,df)\n",
    "#     dist4_matrix = dist4_matrix + dist4_matrix.T    \n",
    "    dist5_matrix = calculate_dist5_matrix(dist3_matrix,df,z_scores_sample)\n",
    "\n",
    "#     matrics = [dist1_matrix,dist2_matrix,dist3_matrix]\n",
    "    matrics = [dist5_matrix]\n",
    "    \n",
    "    for i in range(len(matrics)):\n",
    "        nj = NJ.NJ()\n",
    "        nj.neighbor_joining(matrics[i],df[\"label\"].tolist())\n",
    "        outfile = \"../Output/Subchallenge2/NJ_distmatrix%d/%s.nw\" %(i+5,sample)\n",
    "        f = open(outfile,\"w\")\n",
    "        f.write(NJ.write_newick(nj.root))\n",
    "        f.close()"
   ]
  },
  {
   "cell_type": "code",
   "execution_count": 54,
   "metadata": {},
   "outputs": [],
   "source": [
    "num_threads = 30\n",
    "pool = Pool(num_threads)"
   ]
  },
  {
   "cell_type": "code",
   "execution_count": null,
   "metadata": {},
   "outputs": [],
   "source": [
    "args = []\n",
    "z_scores = pd.read_csv(\"../Cache/Subchallenge2/z_scores.tsv\",sep=\"\\t\")\n",
    "\n",
    "samples = [i.split(\".\")[0] for i in os.listdir(\"../Data/Subchallenge2/Train/\")]\n",
    "for sample in samples:\n",
    "    df = pd.read_table(\"../Data/Subchallenge2/Train/%s.txt\"%sample,\\\n",
    "                   header=None,names=[\"label\",\"seq\"])\n",
    "    z_scores_sample = z_scores[(z_scores[\"sample\"]==sample)&(z_scores[\"z_score\"]>4)]\n",
    "    args.append([df,sample,z_scores_sample])\n",
    "pool.map(solver,args)"
   ]
  },
  {
   "cell_type": "code",
   "execution_count": null,
   "metadata": {},
   "outputs": [],
   "source": []
  }
 ],
 "metadata": {
  "kernelspec": {
   "display_name": "Python 3",
   "language": "python",
   "name": "python3"
  },
  "language_info": {
   "codemirror_mode": {
    "name": "ipython",
    "version": 3
   },
   "file_extension": ".py",
   "mimetype": "text/x-python",
   "name": "python",
   "nbconvert_exporter": "python",
   "pygments_lexer": "ipython3",
   "version": "3.6.8"
  }
 },
 "nbformat": 4,
 "nbformat_minor": 2
}

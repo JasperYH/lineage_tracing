{
 "cells": [
  {
   "cell_type": "code",
   "execution_count": 6,
   "metadata": {},
   "outputs": [],
   "source": [
    "import os\n",
    "import pandas as pd\n",
    "import numpy as np\n",
    "\n",
    "sample = 'SubC2_train_0001'\n",
    "df = pd.read_table(\"../Data/Subchallenge2/Train/%s.txt\"%sample,\\\n",
    "                   header=None,names=[\"label\",\"seq\"])"
   ]
  },
  {
   "cell_type": "code",
   "execution_count": 7,
   "metadata": {},
   "outputs": [
    {
     "data": {
      "text/html": [
       "<div>\n",
       "<style scoped>\n",
       "    .dataframe tbody tr th:only-of-type {\n",
       "        vertical-align: middle;\n",
       "    }\n",
       "\n",
       "    .dataframe tbody tr th {\n",
       "        vertical-align: top;\n",
       "    }\n",
       "\n",
       "    .dataframe thead th {\n",
       "        text-align: right;\n",
       "    }\n",
       "</style>\n",
       "<table border=\"1\" class=\"dataframe\">\n",
       "  <thead>\n",
       "    <tr style=\"text-align: right;\">\n",
       "      <th></th>\n",
       "      <th>label</th>\n",
       "      <th>seq</th>\n",
       "    </tr>\n",
       "  </thead>\n",
       "  <tbody>\n",
       "    <tr>\n",
       "      <th>0</th>\n",
       "      <td>c_0011</td>\n",
       "      <td>00BCAA0A00A0000A00A000A0A0000B0000A00A00000A0A...</td>\n",
       "    </tr>\n",
       "    <tr>\n",
       "      <th>1</th>\n",
       "      <td>c_0170</td>\n",
       "      <td>00A000D0A0A00A-AAAA-------------AA000BAAA0000B...</td>\n",
       "    </tr>\n",
       "    <tr>\n",
       "      <th>2</th>\n",
       "      <td>c_0021</td>\n",
       "      <td>00B0A0000D00A00A0A00AC00AA00A0000A00EB000000A0...</td>\n",
       "    </tr>\n",
       "    <tr>\n",
       "      <th>3</th>\n",
       "      <td>c_0020</td>\n",
       "      <td>00B0A0A0A0AAAAAA00B000AC0B0B0A00000B00E0FB0000...</td>\n",
       "    </tr>\n",
       "    <tr>\n",
       "      <th>4</th>\n",
       "      <td>c_0541</td>\n",
       "      <td>000000AD0000A000B000000I00000AA00A00000C0A00HA...</td>\n",
       "    </tr>\n",
       "  </tbody>\n",
       "</table>\n",
       "</div>"
      ],
      "text/plain": [
       "    label                                                seq\n",
       "0  c_0011  00BCAA0A00A0000A00A000A0A0000B0000A00A00000A0A...\n",
       "1  c_0170  00A000D0A0A00A-AAAA-------------AA000BAAA0000B...\n",
       "2  c_0021  00B0A0000D00A00A0A00AC00AA00A0000A00EB000000A0...\n",
       "3  c_0020  00B0A0A0A0AAAAAA00B000AC0B0B0A00000B00E0FB0000...\n",
       "4  c_0541  000000AD0000A000B000000I00000AA00A00000C0A00HA..."
      ]
     },
     "execution_count": 7,
     "metadata": {},
     "output_type": "execute_result"
    }
   ],
   "source": [
    "df.head()"
   ]
  }
 ],
 "metadata": {
  "kernelspec": {
   "display_name": "Python 3",
   "language": "python",
   "name": "python3"
  },
  "language_info": {
   "codemirror_mode": {
    "name": "ipython",
    "version": 3
   },
   "file_extension": ".py",
   "mimetype": "text/x-python",
   "name": "python",
   "nbconvert_exporter": "python",
   "pygments_lexer": "ipython3",
   "version": "3.6.8"
  }
 },
 "nbformat": 4,
 "nbformat_minor": 2
}
